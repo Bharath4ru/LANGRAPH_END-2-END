{
 "cells": [
  {
   "cell_type": "markdown",
   "metadata": {},
   "source": [
    "API KEY ACCESS"
   ]
  },
  {
   "cell_type": "code",
   "execution_count": 2,
   "metadata": {},
   "outputs": [
    {
     "data": {
      "text/plain": [
       "True"
      ]
     },
     "execution_count": 2,
     "metadata": {},
     "output_type": "execute_result"
    }
   ],
   "source": [
    "from dotenv import load_dotenv\n",
    "load_dotenv()"
   ]
  },
  {
   "cell_type": "markdown",
   "metadata": {},
   "source": [
    "OR"
   ]
  },
  {
   "cell_type": "code",
   "execution_count": 3,
   "metadata": {},
   "outputs": [],
   "source": [
    "import os\n",
    "GOOGLE_API_KEY=os.getenv(\"GOOGLE_API_KEY\")\n",
    "TAVILY_API_KEY=os.getenv(\"TAVILY_API_KEY\")\n",
    "GROQ_API_KEY=os.getenv(\"GROQ_API_KEY\")\n",
    "LANGCHAIN_API_KEY=os.getenv(\"LANGCHAIN_API_KEY\")\n",
    "LANGCHAIN_PROJECT=os.getenv(\"LANGCHAIN_PROJECT\")\n",
    "GOOGLE_CSE_ID=os.getenv(\"GOOGLE_CSE_ID\")"
   ]
  },
  {
   "cell_type": "code",
   "execution_count": 4,
   "metadata": {},
   "outputs": [],
   "source": [
    "\n",
    "os.environ[\"GOOGLE_API_KEY\"] = GOOGLE_API_KEY\n",
    "os.environ[\"TAVILY_API_KEY\"] = TAVILY_API_KEY\n",
    "os.environ[\"GROQ_API_KEY\"]= GROQ_API_KEY\n",
    "os.environ[\"LANGCHAIN_API_KEY\"] = LANGCHAIN_API_KEY\n",
    "os.environ[\"LANGCHAIN_TRACING_V2\"] = \"true\"\n",
    "os.environ[\"LANGCHAIN_ENDPOINT\"] = \"https://api.smith.langchain.com\"\n",
    "os.environ[\"LANGCHAIN_PROJECT\"]=LANGCHAIN_PROJECT\n",
    "os.environ[\"GOOGLE_CSE_ID\"]=GOOGLE_CSE_ID"
   ]
  },
  {
   "cell_type": "markdown",
   "metadata": {},
   "source": [
    "GEMINI CHAT MODEL + EMBEDDING MODELS"
   ]
  },
  {
   "cell_type": "code",
   "execution_count": 7,
   "metadata": {},
   "outputs": [],
   "source": [
    "from langchain_google_genai import GoogleGenerativeAIEmbeddings\n",
    "embeddings = GoogleGenerativeAIEmbeddings(model=\"models/embedding-001\")\n",
    "from langchain_google_genai import ChatGoogleGenerativeAI\n",
    "llm1 = ChatGoogleGenerativeAI(model=\"gemini-2.0-flash-exp\")"
   ]
  },
  {
   "cell_type": "markdown",
   "metadata": {},
   "source": [
    "GROQ MODELS"
   ]
  },
  {
   "cell_type": "code",
   "execution_count": 8,
   "metadata": {},
   "outputs": [],
   "source": [
    "'''from langchain_huggingface import HuggingFaceEmbeddings\n",
    "embeddings=HuggingFaceEmbeddings(model_name=\"all-MiniLM-L6-v2\")'''\n",
    "from langchain_groq import ChatGroq\n",
    "\n",
    "llm2=ChatGroq(model_name=\"deepseek-r1-distill-llama-70b\")"
   ]
  },
  {
   "cell_type": "markdown",
   "metadata": {},
   "source": [
    "TALK WITH GEMINI MODEL"
   ]
  },
  {
   "cell_type": "code",
   "execution_count": 9,
   "metadata": {},
   "outputs": [
    {
     "name": "stdout",
     "output_type": "stream",
     "text": [
      "Okay, let's break down KL Rahul's stats across different formats of cricket. Keep in mind that stats can change as he continues to play.  I'll present them as of October 26, 2023.\n",
      "\n",
      "**Batting Stats**\n",
      "\n",
      "Here's a breakdown of his batting stats across Test, ODI (One Day International), and T20I (Twenty20 International) formats:\n",
      "\n",
      "**Tests**\n",
      "\n",
      "*   **Matches:** 47\n",
      "*   **Innings:** 81\n",
      "*   **Not Outs:** 7\n",
      "*   **Runs:** 2642\n",
      "*   **Highest Score:** 199\n",
      "*   **Average:** 33.87\n",
      "*   **100s:** 7\n",
      "*   **50s:** 13\n",
      "*   **0s (Ducks):** 7\n",
      "*   **Balls Faced:** 5365\n",
      "*   **Strike Rate:** 49.24\n",
      "\n",
      "**ODIs**\n",
      "\n",
      "*   **Matches:** 67\n",
      "*   **Innings:** 64\n",
      "*   **Not Outs:** 11\n",
      "*   **Runs:** 2539\n",
      "*   **Highest Score:** 112\n",
      "*   **Average:** 48.09\n",
      "*   **100s:** 6\n",
      "*   **50s:** 15\n",
      "*   **0s (Ducks):** 4\n",
      "*   **Balls Faced:** 2812\n",
      "*   **Strike Rate:** 90.29\n",
      "\n",
      "**T20Is**\n",
      "\n",
      "*   **Matches:** 72\n",
      "*   **Innings:** 68\n",
      "*   **Not Outs:** 10\n",
      "*   **Runs:** 2265\n",
      "*   **Highest Score:** 110*\n",
      "*   **Average:** 39.05\n",
      "*   **100s:** 2\n",
      "*   **50s:** 22\n",
      "*   **0s (Ducks):** 3\n",
      "*   **Balls Faced:** 1698\n",
      "*   **Strike Rate:** 133.39\n",
      "\n",
      "**Additional Notes & Analysis**\n",
      "\n",
      "*   **Versatility:** KL Rahul is known for his versatility as a batter, capable of playing across different positions in the batting order and adapting to different formats.\n",
      "*   **Inconsistent Test Form:** His Test career has been marked by periods of inconsistency, and he's been in and out of the Test side.\n",
      "*   **Strong ODI Record:** His ODI record is quite strong, with a good average and strike rate. He has often been used in the middle order, and also as an opener.\n",
      "*   **Consistent T20I Performer:** He has been a consistent performer in T20Is, with a solid average and a good strike rate. He is a proven opener in this format.\n",
      "*   **Wicketkeeping:** Rahul has also taken on wicketkeeping duties for India in white-ball formats, particularly in ODIs.\n",
      "\n",
      "**IPL (Indian Premier League) Stats**\n",
      "\n",
      "KL Rahul has also been a prolific run-scorer in the IPL. Here are his stats:\n",
      "\n",
      "*   **Matches:** 118\n",
      "*   **Innings:** 110\n",
      "*   **Not Outs:** 16\n",
      "*   **Runs:** 4163\n",
      "*   **Highest Score:** 132*\n",
      "*   **Average:** 46.26\n",
      "*   **100s:** 4\n",
      "*   **50s:** 33\n",
      "*   **Strike Rate:** 134.51\n",
      "\n",
      "**Key Points to Remember:**\n",
      "\n",
      "*   **Dynamic Stats:** These statistics are dynamic and will change as he plays more matches.\n",
      "*   **Context Matters:** When evaluating stats, it's important to consider the context (e.g., match situation, opposition, playing conditions).\n",
      "*   **Beyond Stats:** There's more to a player than just stats; factors like leadership, adaptability, and clutch performances also matter.\n",
      "\n",
      "I hope this detailed breakdown of KL Rahul's stats is helpful! Let me know if you have any other questions.\n",
      "goodbye take care yourself\n"
     ]
    }
   ],
   "source": [
    "while True:\n",
    "    question=input(\"type your question. if you want to quit the chat write quit\")\n",
    "    if question !=\"quit\":\n",
    "        print(llm1.invoke(question).content)\n",
    "    else:\n",
    "        print(\"goodbye take care yourself\")\n",
    "        break"
   ]
  },
  {
   "cell_type": "markdown",
   "metadata": {},
   "source": [
    "TALK WITH GROQ MODEL"
   ]
  },
  {
   "cell_type": "code",
   "execution_count": 10,
   "metadata": {},
   "outputs": [
    {
     "name": "stdout",
     "output_type": "stream",
     "text": [
      "<think>\n",
      "Okay, so I need to list all the stats of Virat Kohli. Hmm, I'm not super familiar with cricket statistics, but I know he's a big name in the sport. Let me try to figure out where to start.\n",
      "\n",
      "First, I remember that in cricket, there are different formats like Tests, ODIs, and T20Is. I think each has its own set of stats. So, I should probably break it down by these formats.\n",
      "\n",
      "For each format, I should include things like matches played, runs scored, highest score, centuries, half-centuries, average, strike rate, and maybe some other key stats. I've heard terms like \"centuries\" and \"half-centuries,\" which I think refer to scoring 100 runs and 50 runs in an innings, respectively.\n",
      "\n",
      "I also remember that Kohli has been the captain of the Indian team, so maybe I should include some captaincy stats too, like matches led, wins, losses, etc. But I'm not sure about the exact numbers there.\n",
      "\n",
      "Oh, and there are awards and accolades. I think he's won the ICC Cricketer of the Year or something like that. Maybe multiple times. Also, he's been the top-ranked batsman in the world at some point.\n",
      "\n",
      "Wait, I should also consider his overall impact, like fastest to certain runs milestones. I think he's one of the fastest to reach 10,000 ODI runs or something like that.\n",
      "\n",
      "I'm not entirely sure about all the stats, so maybe I can recall some specific numbers. For example, in Tests, I think he has around 30 centuries. In ODIs, maybe over 40 centuries. T20Is, maybe around 30 half-centuries.\n",
      "\n",
      "I should also mention his average in each format. I believe he averages over 50 in Tests and ODIs, which is really good. In T20Is, the average might be a bit lower, but still solid.\n",
      "\n",
      "Strike rate is another factor. In ODIs, he probably has a strike rate around 90, and in T20Is, maybe around 130. These are just guesses, though.\n",
      "\n",
      "Awards-wise, I think he's won the Sir Garfield Sobers Trophy, which is the ICC Cricketer of the Year, a couple of times. Also, he's been the ICC ODI Player of the Year multiple times.\n",
      "\n",
      "Oh, and he's the all-time leading run-scorer for India in ODIs, right? Or at least he was until someone else took over. Wait, I think he still holds that record.\n",
      "\n",
      "I'm not sure about the exact number of Man of the Match or Man of the Series awards he's won, but it must be a significant number given his performance over the years.\n",
      "\n",
      "Captaincy stats: I think he led India in Tests and ODIs, maybe T20Is as well. His win-loss record as captain would be important. I believe he's one of the more successful Test captains for India, with a high number of wins.\n",
      "\n",
      "I should also include some of his records, like the fastest to reach certain run milestones. For example, fastest to 10,000 ODI runs, or most consecutive ODI centuries.\n",
      "\n",
      "Oh, and in the IPL, he plays for Royal Challengers Bangalore and has been their captain. I think he's the leading run-scorer in the IPL, or at least among the top. So maybe include his IPL stats too.\n",
      "\n",
      "Wait, the user mentioned \"all stats,\" so maybe include both international and domestic. But I'm not sure if they want that level of detail.\n",
      "\n",
      "I might be missing some stats, like catches, stumpings, or other fielding metrics, but since he's a batsman, those might not be as prominent. Still, maybe include catches and stumpings as part of his fielding contributions.\n",
      "\n",
      "Also, maybe mention his debut dates for each format. I think he made his ODI debut around 2008, Test debut a bit later, maybe 2011, and T20I debut around the same time as ODIs.\n",
      "\n",
      "I'm not entirely confident about all these numbers, so I might mix up some stats. For example, confusing Test and ODI centuries. I should be careful to separate them correctly.\n",
      "\n",
      "Another thing is his performance in different conditions. I know he's done well both in India and overseas, which is a testament to his skill. Maybe mention that as part of his impact.\n",
      "\n",
      "Also, his role in the team, like being a chase master in ODIs and T20Is, known for successfully chasing down targets.\n",
      "\n",
      "I think he's also among the fittest cricketers, which contributes to his longevity and performance. Maybe not a stat, but it's an important aspect of his career.\n",
      "\n",
      "Wait, I should focus on the numerical stats rather than qualitative aspects. So, stick to runs, averages, centuries, etc.\n",
      "\n",
      "I might forget some specific awards or records, but I can list the major ones I remember, like the ICC awards and unique records like most consecutive ODI centuries in chases.\n",
      "\n",
      "I should also consider his performance in major tournaments, like the World Cup. How many runs he's scored there, any centuries, etc.\n",
      "\n",
      "In the IPL, besides being a top scorer, he's been consistent over the years, so maybe mention his IPL centuries and total runs.\n",
      "\n",
      "I'm starting to realize that there's a lot to cover, so organizing it by format and including key stats for each makes sense. Maybe also a section for awards and records, and captaincy stats.\n",
      "\n",
      "I might not have all the exact numbers right, but I can provide a comprehensive overview with the details I remember. If I'm unsure about a specific stat, I can note that it's approximate or subject to change as he's still active.\n",
      "\n",
      "Also, considering he's still playing, some stats might have changed since my last knowledge update. So, it's important to mention that the stats are accurate as of a certain date.\n",
      "\n",
      "In summary, I'll structure the response by listing each format with relevant stats, then move on to awards, records, captaincy, and maybe IPL stats. I'll try to be as accurate as possible with the numbers I remember, acknowledging any uncertainties.\n",
      "</think>\n",
      "\n",
      "Virat Kohli is a prominent cricketer with a stellar career across various formats. Below is an organized overview of his key statistics and achievements:\n",
      "\n",
      "### International Cricket Statistics\n",
      "\n",
      "#### Test Cricket\n",
      "- **Matches**: 100+\n",
      "- **Runs**: Over 8,000 runs\n",
      "- **Centuries**: 30+\n",
      "- **Half-Centuries**: 25+\n",
      "- **Highest Score**: 254*\n",
      "- **Average**: 50+\n",
      "- **Catches**: 100+\n",
      "\n",
      "#### One-Day Internationals (ODIs)\n",
      "- **Matches**: 250+\n",
      "- **Runs**: Over 12,000 runs\n",
      "- **Centuries**: 45+\n",
      "- **Half-Centuries**: 60+\n",
      "- **Highest Score**: 183\n",
      "- **Average**: 58+\n",
      "- **Strike Rate**: 90+\n",
      "- **Man of the Match**: 30+ times\n",
      "\n",
      "#### T20I Cricket\n",
      "- **Matches**: 100+\n",
      "- **Runs**: Over 4,000 runs\n",
      "- **Half-Centuries**: 30+\n",
      "- **Highest Score**: 94*\n",
      "- **Average**: 50+\n",
      "- **Strike Rate**: 130+\n",
      "\n",
      "### Captaincy Statistics\n",
      "- **Test Matches**: 60+, with a high win rate\n",
      "- **ODIs**: 90+, with significant wins\n",
      "- **T20Is**: 40+ matches led\n",
      "\n",
      "### Awards and Accolades\n",
      "- **Sir Garfield Sobers Trophy (ICC Cricketer of the Year)**: 2017, 2018\n",
      "- **ICC ODI Player of the Year**: 2012, 2017, 2018\n",
      "- **ICC Test Player of the Year**: 2017\n",
      "- **ICC World ODI XI**: Multiple times\n",
      "- **ICC World Test XI**: Multiple times\n",
      "\n",
      "### Records and Milestones\n",
      "- **Fastest to 10,000 ODI Runs**: Achieved in 2018\n",
      "- **Most Consecutive ODI Centuries in Chases**: 3\n",
      "- **Most Runs in a Calendar Year**: 2,818 in 2016\n",
      "- **Most Centuries in Chases**: 26 in ODIs\n",
      "\n",
      "### IPL Statistics\n",
      "- **Team**: Royal Challengers Bangalore\n",
      "- **Runs**: Over 6,000 runs\n",
      "- **Centuries**: 5\n",
      "- **Half-Centuries**: 50+\n",
      "\n",
      "### Impact and Legacy\n",
      "- Known for exceptional performance in chases, earning the nickname \"Chase Master.\"\n",
      "- Consistent performance both in India and overseas.\n",
      "- Renowned for his fitness and longevity in the sport.\n",
      "\n",
      "### Note\n",
      "These statistics are accurate as of a certain date and may change as Kohli is still active in cricket.\n",
      "goodbye take care yourself\n"
     ]
    }
   ],
   "source": [
    "while True:\n",
    "    question=input(\"type your question. if you want to quit the chat write quit\")\n",
    "    if question !=\"quit\":\n",
    "        print(llm2.invoke(question).content)\n",
    "    else:\n",
    "        print(\"goodbye take care yourself\")\n",
    "        break"
   ]
  },
  {
   "cell_type": "markdown",
   "metadata": {},
   "source": [
    "TOOL1\n"
   ]
  },
  {
   "cell_type": "markdown",
   "metadata": {},
   "source": [
    "DuckDuckGoSearch TOOL"
   ]
  },
  {
   "cell_type": "code",
   "execution_count": 13,
   "metadata": {},
   "outputs": [
    {
     "name": "stderr",
     "output_type": "stream",
     "text": [
      "c:\\Users\\Swapna\\anaconda3\\Lib\\site-packages\\langchain_community\\utilities\\duckduckgo_search.py:64: UserWarning: 'api' backend is deprecated, using backend='auto'\n",
      "  ddgs_gen = ddgs.text(\n"
     ]
    },
    {
     "data": {
      "text/plain": [
       "\"snippet: LLMs are black box AI systems that use deep learning on extremely large ... A certificate revocation list (CRL) is a list of digital certificates that\\xa0..., title: 25 of the best large language models in 2025 - TechTarget, link: https://www.techtarget.com/whatis/feature/12-of-the-best-large-language-models, snippet: 6 days ago ... ... list can help you identify the most current and well-suited LLM model that meets your business's unique requirements. 1. GPT. Our list kicks\\xa0..., title: Top 9 Large Language Models as of January 2025 | Shakudo, link: https://www.shakudo.io/blog/top-9-large-language-models, snippet: This is because LLMs serve as foundation models that can be applied across multiple uses. Here's a list of LLM capabilities: Text generation; Language\\xa0..., title: Large Language Models: What You Need to Know in 2025, link: https://hatchworks.com/blog/gen-ai/large-language-models-guide/, snippet: ... LLM applications. The 2025 List is Available: Download OWASP Top 10 for LLMs List for 2025 Full Version. Download Additional Resources from our Website\\xa0..., title: OWASP Top 10 for Large Language Model Applications, link: https://owasp.org/www-project-top-10-for-large-language-model-applications/\""
      ]
     },
     "execution_count": 13,
     "metadata": {},
     "output_type": "execute_result"
    }
   ],
   "source": [
    "from langchain_community.tools import DuckDuckGoSearchResults\n",
    "\n",
    "search = DuckDuckGoSearchResults(source=\"news\")\n",
    "\n",
    "search.invoke(\"list 2025 LLMs\")"
   ]
  },
  {
   "cell_type": "markdown",
   "metadata": {},
   "source": [
    "OR"
   ]
  },
  {
   "cell_type": "code",
   "execution_count": 17,
   "metadata": {},
   "outputs": [
    {
     "name": "stderr",
     "output_type": "stream",
     "text": [
      "c:\\Users\\Swapna\\anaconda3\\Lib\\site-packages\\langchain_community\\utilities\\duckduckgo_search.py:64: UserWarning: 'api' backend is deprecated, using backend='auto'\n",
      "  ddgs_gen = ddgs.text(\n"
     ]
    },
    {
     "data": {
      "text/plain": [
       "'snippet: Know the Lucknow Super Giants squad for IPL 2025. Full list of LSG players to play in the Indian Premier League season, including their roles: batters,\\xa0..., title: Lucknow Super Giants (LSG) Players - Full Team | IPL 2025, link: https://www.lucknowsupergiants.in/team, snippet: LSG Squad IPL 2024 · LSG Lucknow Super Giants · Ayush BadoniBatsman · Devdutt PadikkalBatsman · Arshin KulkarniAll-Rounder · Ashton TurnerAll-Rounder · Deepak Hooda\\xa0..., title: LSG Squad IPL 2024 | Crickit by HT - Hindustan Times, link: https://www.hindustantimes.com/cricket/ipl/team-lsg-squad-2954, snippet: Lucknow Super Giants · Batters · Rishabh Pant · David Miller · Aiden Markram · Aryan Juyal · Himmat Singh · Matthew Breetzke., title: Lucknow Super Giants | LSG 2025 Squad & Overview | IPLT20, link: https://www.iplt20.com/teams/lucknow-super-giants, snippet: 25 Nov 2024 ... Nicholas Pooran, Ravi Bishnoi, Mayank Yadav, Mohsin Khan, Ayush Badoni, Rishabh Pant (Rs. 27 crore), David Miller (Rs. 7.5 crore), Aiden Markram\\xa0..., title: LSG squad composition, IPL 2025: Lucknow Super Giants ..., link: https://sportstar.thehindu.com/cricket/ipl/ipl-news/lsg-squad-composition-ipl-2025-lucknow-super-giants-predicted-playing-11-full-players-list/article68910323.ece'"
      ]
     },
     "execution_count": 17,
     "metadata": {},
     "output_type": "execute_result"
    }
   ],
   "source": [
    "from langchain_community.utilities import DuckDuckGoSearchAPIWrapper\n",
    "from langchain_community.tools import DuckDuckGoSearchResults\n",
    "\n",
    "\n",
    "wrapper = DuckDuckGoSearchAPIWrapper(region=\"de-de\", time=\"d\", max_results=2)\n",
    "\n",
    "search = DuckDuckGoSearchResults(api_wrapper=wrapper, source=\"news\")\n",
    "\n",
    "search.invoke(\"list 2024 LSG IPL Playing eleven\")"
   ]
  },
  {
   "cell_type": "markdown",
   "metadata": {},
   "source": [
    "TOOL2"
   ]
  },
  {
   "cell_type": "markdown",
   "metadata": {},
   "source": [
    "Wikipedia"
   ]
  },
  {
   "cell_type": "code",
   "execution_count": 15,
   "metadata": {},
   "outputs": [
    {
     "name": "stdout",
     "output_type": "stream",
     "text": [
      "Page: Large language model\n",
      "Summary: A large language model (LLM) is a type of machine learning model designed for natural language processing tasks such as language generation. LLMs are language models with many parameters, and are trained with self-supervised learning on a vast amount of text.\n",
      "The largest and most capable LLMs are generative pretrained transformers (GPTs). Modern models can be fine-tuned for specific tasks or guided by prompt engineering. These models acquire predictive power regarding syntax, semantics, and ontologies inherent in human language corpora, but they also inherit inaccuracies and biases present in the data they are trained in.\n",
      "\n",
      "\n",
      "\n",
      "Page: Gemini (language model)\n",
      "Summary: Gemini (formerly known as Bard) is a family of multimodal large language models developed by Google DeepMind, serving as the successor to LaMDA and PaLM 2. Comprising Gemini Ultra, Gemini Pro, Gemini Flash, and Gemini Nano, it was announced on December 6, 2023, positioned as a competitor to \n"
     ]
    }
   ],
   "source": [
    "from langchain_community.tools import WikipediaQueryRun\n",
    "from langchain_community.utilities import WikipediaAPIWrapper\n",
    "\n",
    "api_wrapper = WikipediaAPIWrapper(top_k_results=5, doc_content_chars_max=1000)\n",
    "tool = WikipediaQueryRun(api_wrapper=api_wrapper)\n",
    "print(tool.run({\"query\": \"list Trending LLM Models in 2025\"}))\n",
    "\n"
   ]
  },
  {
   "cell_type": "markdown",
   "metadata": {},
   "source": [
    "TOOL3\n"
   ]
  },
  {
   "cell_type": "markdown",
   "metadata": {},
   "source": [
    "YOUTUBE SERACH TOOL"
   ]
  },
  {
   "cell_type": "code",
   "execution_count": 18,
   "metadata": {},
   "outputs": [
    {
     "data": {
      "text/plain": [
       "\"['https://www.youtube.com/watch?v=1Mh2obJqgJI&pp=ygUKSXNob3dTcGVlZA%3D%3D', 'https://www.youtube.com/watch?v=G0jHeLHa-Uk&pp=ygUKSXNob3dTcGVlZA%3D%3D']\""
      ]
     },
     "execution_count": 18,
     "metadata": {},
     "output_type": "execute_result"
    }
   ],
   "source": [
    "from langchain_community.tools import YouTubeSearchTool\n",
    "tool=YouTubeSearchTool()\n",
    "tool.run(\"IshowSpeed\")"
   ]
  },
  {
   "cell_type": "markdown",
   "metadata": {},
   "source": [
    "TOOL4\n"
   ]
  },
  {
   "cell_type": "markdown",
   "metadata": {},
   "source": [
    "TAVILY SEARCH TOOL"
   ]
  },
  {
   "cell_type": "code",
   "execution_count": 19,
   "metadata": {},
   "outputs": [
    {
     "data": {
      "text/plain": [
       "[{'url': 'https://openai.com/index/openai-o3-mini/',\n",
       "  'content': 'While OpenAI o1 remains our broader general knowledge reasoning model, OpenAI o3-mini provides a specialized alternative for technical domains requiring precision and speed. In ChatGPT, o3-mini uses medium reasoning effort to provide a balanced trade-off between speed and accuracy.'},\n",
       " {'url': 'https://www.technologyreview.com/2025/01/31/1110757/openai-makes-its-reasoning-model-for-free/',\n",
       "  'content': \"Following the lead of DeepSeek, OpenAI makes its reasoning model free | MIT Technology Review OpenAI releases its new o3-mini reasoning model for free OpenAI just released o3-mini, a reasoning model that’s faster, cheaper, and more accurate than its predecessor. On Thursday, Microsoft announced that it’s rolling OpenAI's reasoning model o1 out to its Copilot users, and now OpenAI is releasing a new reasoning model, o3-mini, to people who use the free version of ChatGPT. OpenAI’s o1-mini is 20 times more expensive to run than its equivalent non-reasoning model, GPT-4o mini. Additionally, DeepSeek’s reasoning model costs $0.55 per million input tokens, half the price of o3-mini, so OpenAI still has a way to go to bring down its costs.\"},\n",
       " {'url': 'https://arstechnica.com/ai/2025/01/openai-hits-back-at-deepseek-with-o3-mini-reasoning-model/',\n",
       "  'content': 'OpenAI hits back at DeepSeek with o3-mini reasoning model - Ars Technica OpenAI hits back at DeepSeek with o3-mini reasoning model Today, OpenAI struck back with the public release of o3-mini, its latest simulated reasoning model and the first of its kind the company will offer for free to all users without a subscription. The lowest of these reasoning levels generally shows accuracy levels comparable to o1-mini in math and coding benchmarks, according to OpenAI, while the highest matches or surpasses the full-fledged o1 model in the same tests. But OpenAI warns that the o3-mini model \"still performs poorly on evaluations designed to test real-world ML research capabilities relevant for self-improvement,\" meaning OpenAI isn\\'t yet approaching a self-improving AI explosion.'},\n",
       " {'url': 'https://techcrunch.com/2025/01/31/openai-launches-o3-mini-its-latest-reasoning-model/',\n",
       "  'content': \"OpenAI launches o3-mini, its latest 'reasoning' model | TechCrunch OpenAI launches o3-mini, its latest 'reasoning' model | TechCrunch OpenAI launches o3-mini, its latest ‘reasoning’ model OpenAI on Friday launched a new AI “reasoning” model, o3-mini, the newest in the company’s o family of reasoning models. In ChatGPT, o3-mini is set to medium reasoning effort, which OpenAI says provides “a balanced trade-off between speed and accuracy.” Paid users will have the option of selecting “o3-mini-high” in the model picker, which will deliver what OpenAI calls “higher-intelligence” in exchange for slower responses. O3-mini is not OpenAI’s most powerful model to date, nor does it leapfrog DeepSeek’s R1 reasoning model in every benchmark. AI, AI, ChatGPT, Generative AI, o3-mini, OpenAI, reasoning model OpenAI launches o3-mini, its latest ‘reasoning’ model\"},\n",
       " {'url': 'https://www.wired.com/story/openai-o3-mini-release/',\n",
       "  'content': 'OpenAI’s o3-Mini Is a Leaner AI Model That Keeps Pace With DeepSeek | WIRED OpenAI’s o3-Mini Is a Leaner AI Model That Keeps Pace With DeepSeek OpenAI’s o3-Mini Is a Leaner AI Model That Keeps Pace With DeepSeek OpenAI is making a smaller, more efficient version of its cleverest artificial intelligence model available for free as it seeks to answer the hype and enthusiasm swirling around a new open source offering from Chinese AI startup DeepSeek. WIRED previously reported that OpenAI was prepping the new model, called o3-mini, for release on January 31. The Best Coffee Subscriptions to Keep You Wired More From WIRED'}]"
      ]
     },
     "execution_count": 19,
     "metadata": {},
     "output_type": "execute_result"
    }
   ],
   "source": [
    "from langchain_community.tools.tavily_search import TavilySearchResults\n",
    "tool = TavilySearchResults()\n",
    "tool.invoke({\"query\": \"about openai o3 mini model\"})"
   ]
  }
 ],
 "metadata": {
  "kernelspec": {
   "display_name": "base",
   "language": "python",
   "name": "python3"
  },
  "language_info": {
   "codemirror_mode": {
    "name": "ipython",
    "version": 3
   },
   "file_extension": ".py",
   "mimetype": "text/x-python",
   "name": "python",
   "nbconvert_exporter": "python",
   "pygments_lexer": "ipython3",
   "version": "3.12.3"
  }
 },
 "nbformat": 4,
 "nbformat_minor": 2
}
